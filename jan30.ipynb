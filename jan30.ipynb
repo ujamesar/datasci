{
 "cells": [
  {
   "cell_type": "code",
   "execution_count": 1,
   "id": "6921ea94-8d88-43c0-8e18-eee77648b1d5",
   "metadata": {},
   "outputs": [
    {
     "name": "stdin",
     "output_type": "stream",
     "text": [
      "Enter the percentage: 85\n"
     ]
    },
    {
     "name": "stdout",
     "output_type": "stream",
     "text": [
      "B\n"
     ]
    }
   ],
   "source": [
    "marks=int(input(\"Enter the percentage:\"))\n",
    "if marks>90:\n",
    "    print(\"A\")\n",
    "elif marks>80 and marks<=90:\n",
    "    print(\"B\")\n",
    "elif marks>=60 and marks<=80:\n",
    "    print(\"C\")\n",
    "else:\n",
    "    print(\"D\")"
   ]
  },
  {
   "cell_type": "code",
   "execution_count": 5,
   "id": "4a9b9c02-cea3-4e3d-b902-e8464e19471f",
   "metadata": {},
   "outputs": [
    {
     "name": "stdin",
     "output_type": "stream",
     "text": [
      "Enter the cost price 85000\n"
     ]
    },
    {
     "name": "stdout",
     "output_type": "stream",
     "text": [
      "Tax to be paid=8500.0\n"
     ]
    }
   ],
   "source": [
    "cost_price=int(input(\"Enter the cost price\"))\n",
    "if cost_price>=100000:\n",
    "    print(f\"Tax to be paid={cost_price*0.15}\")\n",
    "elif cost_price>50000 and cost_price<=100000:\n",
    "    print(f\"Tax to be paid={cost_price*0.1}\")\n",
    "else:\n",
    "    print(f\"Tax to be paid={cost_price*0.05}\")"
   ]
  },
  {
   "cell_type": "code",
   "execution_count": 6,
   "id": "0bfbd9e6-90f2-4e00-8fa4-d873cf46cf65",
   "metadata": {},
   "outputs": [
    {
     "name": "stdin",
     "output_type": "stream",
     "text": [
      "Enter the name of the city: Jaipur\n"
     ]
    },
    {
     "name": "stdout",
     "output_type": "stream",
     "text": [
      "Jal Mahal\n"
     ]
    }
   ],
   "source": [
    "city=input(\"Enter the name of the city:\")\n",
    "if city=='Delhi':\n",
    "    print(\"Red Fort\")\n",
    "elif city=='Agra':\n",
    "    print(\"Taj Mahal\")\n",
    "elif city=='Jaipur':\n",
    "    print(\"Jal Mahal\")\n",
    "else:\n",
    "     print(\"Invalid city\")   \n"
   ]
  },
  {
   "cell_type": "code",
   "execution_count": 9,
   "id": "e138cf29-50f5-4070-a50e-9308bdbf70d1",
   "metadata": {},
   "outputs": [
    {
     "name": "stdin",
     "output_type": "stream",
     "text": [
      "Enter a number:  81\n"
     ]
    },
    {
     "name": "stdout",
     "output_type": "stream",
     "text": [
      "The number was divided by 3 by 2 times.\n"
     ]
    }
   ],
   "source": [
    "num = int(input(\"Enter a number: \"))\n",
    "counter = 0\n",
    "\n",
    "while num > 10:\n",
    "    num = num / 3\n",
    "    counter += 1\n",
    "\n",
    "print(\"The number was divided by 3 by\", counter, \"times.\")"
   ]
  },
  {
   "cell_type": "code",
   "execution_count": 10,
   "id": "90252bc7-95d4-45a2-8d6d-ca66d11e7d45",
   "metadata": {},
   "outputs": [
    {
     "name": "stdout",
     "output_type": "stream",
     "text": [
      "0\n",
      "1\n",
      "2\n",
      "3\n",
      "4\n",
      "5\n",
      "6\n",
      "7\n",
      "8\n",
      "9\n"
     ]
    }
   ],
   "source": [
    "# # 5. Why and when to use while loop in Python. Give a detailed description with example\n",
    "# '''The while loop in Python is used to repeat a block of code as long as a certain condition is true. It's a type of loop that allows you to repeat a set of statements an unknown number of times, until a certain condition is met.\n",
    "\n",
    "# Here's the basic syntax for a while loop in Python:\n",
    "# while (condition):\n",
    "#     #CODE TO BE EXECUTED\n",
    "# The condition in the while loop is evaluated before each iteration. If the condition is True, the loop will continue to execute the code inside the loop. If the condition is False, the loop will terminate and control will be passed to the next statement after the loop.\n",
    "\n",
    "# Here's an example of using a while loop to print out the numbers 0 to 9:'''\n",
    "\n",
    "counter = 0\n",
    "\n",
    "while counter < 10:\n",
    "    print(counter)\n",
    "    counter += 1\n",
    "\n",
    "# '''In this example, the counter variable is initialized to 0 and the while loop will repeat until counter is no longer less than 10. In each iteration, the value of counter is printed and then increased by 1. This will result in the numbers 0 to 9 being printed.\n",
    "\n",
    "# A while loop is useful when you don't know beforehand how many times you need to repeat a set of statements. For example, you can use a while loop to keep asking the user for input until they provide a valid response, or to keep reading data from a file until the end of the file is reached.\n",
    "\n",
    "# It's important to keep in mind that an infinite loop can occur if the condition in the while loop is never met, causing the loop to repeat forever. To avoid this, make sure to update the variables inside the loop so that the condition will eventually become False.\""
   ]
  },
  {
   "cell_type": "code",
   "execution_count": 14,
   "id": "073fd7ce-645f-4f3e-915a-c4dbd010ff89",
   "metadata": {},
   "outputs": [
    {
     "name": "stdin",
     "output_type": "stream",
     "text": [
      "Enter the number of rows:  5\n"
     ]
    },
    {
     "name": "stdout",
     "output_type": "stream",
     "text": [
      "*\n",
      "**\n",
      "***\n",
      "****\n",
      "*****\n"
     ]
    },
    {
     "name": "stdin",
     "output_type": "stream",
     "text": [
      "Enter the number of rows:  6\n"
     ]
    },
    {
     "name": "stdout",
     "output_type": "stream",
     "text": [
      "******\n",
      "*****\n",
      "****\n",
      "***\n",
      "**\n",
      "*\n"
     ]
    },
    {
     "name": "stdin",
     "output_type": "stream",
     "text": [
      "Enter the number of rows:  10\n"
     ]
    },
    {
     "name": "stdout",
     "output_type": "stream",
     "text": [
      " *\n",
      "  ***\n",
      "   *****\n",
      "    *******\n",
      "     *********\n",
      "      ***********\n",
      "       *************\n",
      "        ***************\n",
      "         *****************\n",
      "          *******************\n",
      "         *****************\n",
      "        ***************\n",
      "       *************\n",
      "      ***********\n",
      "     *********\n",
      "    *******\n",
      "   *****\n",
      "  ***\n",
      " *\n"
     ]
    }
   ],
   "source": [
    "# 6. Use a nested while loop to print three different pattern\n",
    "#A pyramid pattern:\n",
    "rows = int(input(\"Enter the number of rows: \"))\n",
    "i = 1\n",
    "while i <= rows:\n",
    "    j = 1\n",
    "    while j <= i:\n",
    "        print(\"*\", end=\"\")\n",
    "        j += 1\n",
    "    print()\n",
    "    i += 1\n",
    "\n",
    "# An inverted pyramid pattern:\n",
    "rows = int(input(\"Enter the number of rows: \"))\n",
    "i = rows\n",
    "while i >= 1:\n",
    "    j = 1\n",
    "    while j <= i:\n",
    "        print(\"*\", end=\"\")\n",
    "        j += 1\n",
    "    print()\n",
    "    i -= 1\n",
    "    \n",
    "#A diamond pattern:\n",
    "rows = int(input(\"Enter the number of rows: \"))\n",
    "\n",
    "k = 0\n",
    "for i in range(1, rows * 2):\n",
    "    for j in range(rows - abs(rows - i)):\n",
    "        print(\" \", end=\"\")\n",
    "    while k != (2 * (rows - abs(rows - i)) - 1):\n",
    "        print(\"*\", end=\"\")\n",
    "        \n",
    "        k = k + 1\n",
    "    k = 0\n",
    "    print()"
   ]
  },
  {
   "cell_type": "code",
   "execution_count": 12,
   "id": "09586b7b-0d62-46fb-b6cb-109934eedfdd",
   "metadata": {},
   "outputs": [
    {
     "name": "stdout",
     "output_type": "stream",
     "text": [
      "10\n",
      "9\n",
      "8\n",
      "7\n",
      "6\n",
      "5\n",
      "4\n",
      "3\n",
      "2\n",
      "1\n"
     ]
    }
   ],
   "source": [
    "# 7. Reverse a while loop to display numbers from 10 to 1\n",
    "i=10\n",
    "while(i>=1):\n",
    "    print(i,end=\"\\n\")\n",
    "    i-=1"
   ]
  },
  {
   "cell_type": "code",
   "execution_count": 16,
   "id": "1d76b346-8d87-4dfd-84f3-c5a707fe6d1e",
   "metadata": {},
   "outputs": [
    {
     "name": "stdout",
     "output_type": "stream",
     "text": [
      "10\n",
      "9\n",
      "8\n",
      "7\n",
      "6\n",
      "5\n",
      "4\n",
      "3\n",
      "2\n",
      "1\n"
     ]
    }
   ],
   "source": [
    "# 8. reverse a while loop to display numbers from 10 to 1\n",
    "i=10\n",
    "while(i>=1):\n",
    "    print(i,end=\"\\n\")\n",
    "    i-=1"
   ]
  },
  {
   "cell_type": "code",
   "execution_count": null,
   "id": "96d3e41c-151c-473f-baed-a4627b9421b0",
   "metadata": {},
   "outputs": [],
   "source": []
  }
 ],
 "metadata": {
  "kernelspec": {
   "display_name": "Python 3 (ipykernel)",
   "language": "python",
   "name": "python3"
  },
  "language_info": {
   "codemirror_mode": {
    "name": "ipython",
    "version": 3
   },
   "file_extension": ".py",
   "mimetype": "text/x-python",
   "name": "python",
   "nbconvert_exporter": "python",
   "pygments_lexer": "ipython3",
   "version": "3.10.6"
  }
 },
 "nbformat": 4,
 "nbformat_minor": 5
}
