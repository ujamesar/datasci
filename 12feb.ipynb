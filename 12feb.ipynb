{
 "cells": [
  {
   "cell_type": "code",
   "execution_count": 1,
   "id": "97b3c398-a8fa-42f3-a23e-d48a6d0f47f7",
   "metadata": {},
   "outputs": [],
   "source": [
    "# Exception - an exception is an event that occurs during the execution of a program that disrupts the normal flow of instructions. \n",
    "\n",
    "# Difference-The main difference between exceptions and syntax errors is that exceptions occur during the execution of the program, \n",
    "# while syntax errors occur before the program is executed. In other words, syntax errors are detected by the Python interpreter before the program is even run, \n",
    "# while exceptions occur during the program's execution when certain unexpected situations arise."
   ]
  },
  {
   "cell_type": "code",
   "execution_count": null,
   "id": "3304685d-dc78-42ba-83aa-a4ee1016fa26",
   "metadata": {},
   "outputs": [],
   "source": [
    "# When an exception is not handled in a program, it will cause the program to terminate abruptly, and an error message will be displayed on the console or terminal, \n",
    "# indicating the type of exception that was raised and where it occurred in the program.\n",
    "\n",
    "# Example of an unhandled exception\n",
    "def divide_numbers(x, y):\n",
    "    result = x / y\n",
    "    return result\n",
    "\n",
    "# Here we are calling the divide_numbers function with the second argument as 0, which is an invalid operation\n",
    "result = divide_numbers(10, 0)"
   ]
  },
  {
   "cell_type": "code",
   "execution_count": null,
   "id": "4e248afc-da0f-46f5-839e-8d7c72d53ec9",
   "metadata": {},
   "outputs": [],
   "source": [
    "try:\n",
    "    f = open('text1.txt','r')\n",
    "    f.write('Magnus Carlson ')\n",
    "    f.write('chess champion')\n",
    "    f = open('text8.txt','r')\n",
    "    print(f.read())\n",
    "except Exception as e :\n",
    "    print('this is an exception',e)\n",
    "else:\n",
    "    f.close()\n",
    "    print('nothing is wrong')\n",
    "finally:\n",
    "    print('This statement will be executed no matter what.')\n",
    "    \n",
    "# Raised\n",
    "class validate(Exception):\n",
    "    def __init__(self,msg):\n",
    "        self.msg = msg\n",
    "        \n",
    "def validateage(age):\n",
    "    if age < 0:\n",
    "        raise validate('age in not validate',age)\n",
    "    elif age > 200:\n",
    "        raise validate('age is very high')\n",
    "    else:    \n",
    "        print('age is valid') \n",
    "try:\n",
    "    age = int(input('Enter The Age'))\n",
    "    validateage(age)\n",
    "except validate as e:\n",
    "    print(e)"
   ]
  },
  {
   "cell_type": "code",
   "execution_count": 4,
   "id": "8d6b3db6-f237-49a3-b512-ec092e0d6cf4",
   "metadata": {},
   "outputs": [
    {
     "name": "stdout",
     "output_type": "stream",
     "text": [
      "Negative numbers are not allowed.\n"
     ]
    }
   ],
   "source": [
    "# Custom exceptions in Python are user-defined exceptions that extend the built-in Exception class. \n",
    "# They are used to represent errors or exceptional situations that are specific to the application or \n",
    "# module being developed.\n",
    "\n",
    "class NegativeNumberError(Exception):\n",
    "    def __init__(self, number):\n",
    "        self.number = number\n",
    "        self.message = \"Negative numbers are not allowed.\"\n",
    "        super().__init__(self.message)\n",
    "\n",
    "try:\n",
    "    x = -5\n",
    "    if x < 0:\n",
    "        raise NegativeNumberError(x)\n",
    "except NegativeNumberError as e:\n",
    "    print(e.message)"
   ]
  },
  {
   "cell_type": "code",
   "execution_count": 5,
   "id": "0a4d3f56-6ea6-4e3b-a0cb-7d46b40f7590",
   "metadata": {},
   "outputs": [
    {
     "name": "stdin",
     "output_type": "stream",
     "text": [
      "Enter The Age 18\n"
     ]
    },
    {
     "name": "stdout",
     "output_type": "stream",
     "text": [
      "You can drive\n"
     ]
    }
   ],
   "source": [
    "class validate(Exception):\n",
    "    def __init__(self,msg):\n",
    "        self.msg = msg\n",
    "        \n",
    "def validateage(age):\n",
    "    if age < 18:\n",
    "        raise validate('You cant drive')\n",
    "    elif age >= 18:\n",
    "        raise validate('You can drive')\n",
    "    else:    \n",
    "        print('age is not valid')    \n",
    "try:\n",
    "    age = int(input('Enter The Age'))\n",
    "    validateage(age)\n",
    "except validate as e:\n",
    "    print(e)\n"
   ]
  },
  {
   "cell_type": "code",
   "execution_count": null,
   "id": "a291eef9-a849-4bd6-a09d-b55ceb4fbbe8",
   "metadata": {},
   "outputs": [],
   "source": []
  }
 ],
 "metadata": {
  "kernelspec": {
   "display_name": "Python 3 (ipykernel)",
   "language": "python",
   "name": "python3"
  },
  "language_info": {
   "codemirror_mode": {
    "name": "ipython",
    "version": 3
   },
   "file_extension": ".py",
   "mimetype": "text/x-python",
   "name": "python",
   "nbconvert_exporter": "python",
   "pygments_lexer": "ipython3",
   "version": "3.10.6"
  }
 },
 "nbformat": 4,
 "nbformat_minor": 5
}
