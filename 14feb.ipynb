{
 "cells": [
  {
   "cell_type": "code",
   "execution_count": null,
   "id": "29401a46-408a-444b-9618-c3862a20cc9b",
   "metadata": {},
   "outputs": [],
   "source": [
    "Q1 What is multithreading in python? Why is it used? Name the module used to handle threads in python.\n",
    "\n",
    "Ans.\n",
    "\n",
    "Multithreading in Python refers to the execution of multiple threads in a single program. Each thread is an independent flow of execution, with its own call stack and state. Threads allow a program to perform multiple tasks concurrently, thereby increasing the overall performance and responsiveness of the program.\n",
    "\n",
    "Threads are used to handle I/O bound and network-bound tasks, where the waiting time for the results is much longer than the time required for computation. Using threads, a program can perform other tasks while waiting for the I/O or network response.\n",
    "\n",
    "The threading module is used to handle threads in Python. It provides a way to create and manipulate threads in a Python program. The threading module also provides synchronization primitives like locks, events, and semaphores to manage access to shared resources between threads."
   ]
  },
  {
   "cell_type": "code",
   "execution_count": null,
   "id": "59dae0c0-fe0a-4740-b0c0-35e33a0ecdac",
   "metadata": {},
   "outputs": [],
   "source": [
    "Q3. Explain the following functions\n",
    "\n",
    "i run() ii start() iii join() iv isAlive()\n",
    "\n",
    "Ans.\n",
    "\n",
    "i. run(): This method is the entry point for the thread. Once the thread is started, the run() method is the first method to execute. It can be overridden to define custom functionality for the thread.\n",
    "\n",
    "ii. start(): This method starts the thread by calling the run() method. It creates a new thread of execution and begins executing it.\n",
    "\n",
    "iii. join(): This method waits for the thread to finish its execution. If this method is called on a thread, the calling thread is blocked until the thread being joined is finished.\n",
    "\n",
    "iv. isAlive(): This method returns a boolean value indicating whether the thread is still executing. If the thread is still executing, the method returns True, otherwise it returns False."
   ]
  },
  {
   "cell_type": "code",
   "execution_count": 3,
   "id": "23f3e731-c1af-4743-a2d2-1701ed934c6e",
   "metadata": {},
   "outputs": [
    {
     "name": "stdout",
     "output_type": "stream",
     "text": [
      "Squares:\n",
      "1\n",
      "4\n",
      "9\n",
      "16\n",
      "25\n",
      "Cubes:\n",
      "1\n",
      "8\n",
      "27\n",
      "64\n",
      "125\n",
      "Done\n"
     ]
    }
   ],
   "source": [
    "# 4. Write a python program to create two threads. Thread one must print the list of squares and thread two must print the list of cubes.\n",
    "\n",
    "# Ans 4\n",
    "\n",
    "import threading\n",
    "\n",
    "def print_squares(nums):\n",
    "    print(\"Squares:\")\n",
    "    for num in nums:\n",
    "        print(num * num)\n",
    "\n",
    "def print_cubes(nums):\n",
    "    print(\"Cubes:\")\n",
    "    for num in nums:\n",
    "        print(num * num * num)\n",
    "\n",
    "nums = [1, 2, 3, 4, 5]\n",
    "\n",
    "t1 = threading.Thread(target=print_squares, args=(nums,))\n",
    "t2 = threading.Thread(target=print_cubes, args=(nums,))\n",
    "\n",
    "t1.start()\n",
    "t2.start()\n",
    "\n",
    "t1.join()\n",
    "t2.join()\n",
    "\n",
    "print(\"Done\")"
   ]
  },
  {
   "cell_type": "code",
   "execution_count": null,
   "id": "94a10f6d-dfd9-42f3-9fc9-6dd6e9f11ffd",
   "metadata": {},
   "outputs": [],
   "source": [
    "Q5. State advantages and disadvantages of multithreading\n",
    "\n",
    "Ans.\n",
    "\n",
    "Advantages:\n",
    "i.Improved performance and increased efficiency by allowing multiple tasks to execute simultaneously.\n",
    "\n",
    "ii.Better use of system resources, since the threads can run in parallel on multiple CPU cores.\n",
    "\n",
    "iii.Enhanced user experience by keeping the application responsive while performing time-consuming tasks in the background.\n",
    "\n",
    "iv.Better use of memory since threads can share the same memory space.\n",
    "\n",
    "Disadvantages:\n",
    "i.Increased complexity of the code, since the programmer needs to synchronize access to shared data and resources.\n",
    "\n",
    "ii.Difficulty in debugging since it is harder to identify and isolate the cause of the problems that arise due to multiple threads running at the same time.\n",
    "\n",
    "iii.Increased resource consumption due to the overhead of creating and managing threads.\n",
    "\n",
    "iv.Risk of deadlocks and race conditions when multiple threads access shared data simultaneously.\n",
    "\n",
    "Q6. Explain deadlocks and race conditions.\n",
    "\n",
    "Ans.\n",
    "\n",
    "Deadlock and race condition are two common problems that can occur in a multithreaded environment:\n",
    "\n",
    "Deadlock : A deadlock occurs when two or more threads are blocked, each waiting for the other to release a resource, which it holds. In other words, a set of processes are blocked and none of them can continue until one or more of the other processes completes.\n",
    "\n",
    "Race Condition: A race condition occurs when two or more threads can access shared data and they try to change it at the same time. As a result, the values of variables may be unpredictable and vary depending on the timings of context switching of the processes.\n",
    "\n",
    "Both deadlocks and race conditions can cause program crashes or other serious errors in multithreaded programs. They can be difficult to detect and fix, and can often be avoided through careful design and synchronization of shared resources in the program"
   ]
  }
 ],
 "metadata": {
  "kernelspec": {
   "display_name": "Python 3 (ipykernel)",
   "language": "python",
   "name": "python3"
  },
  "language_info": {
   "codemirror_mode": {
    "name": "ipython",
    "version": 3
   },
   "file_extension": ".py",
   "mimetype": "text/x-python",
   "name": "python",
   "nbconvert_exporter": "python",
   "pygments_lexer": "ipython3",
   "version": "3.10.6"
  }
 },
 "nbformat": 4,
 "nbformat_minor": 5
}
