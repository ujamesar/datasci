{
 "cells": [
  {
   "cell_type": "code",
   "execution_count": 1,
   "id": "c6b2c23f-cba3-4183-9e29-5a76d84dc04f",
   "metadata": {},
   "outputs": [],
   "source": [
    "file = open('text.txt','w')\n",
    "# 'r'   -    open for reading (default)\n",
    "# 'w'   -    open for writing, truncating the file first\n",
    "# 'x'   -    create a new file and open it for writing\n",
    "# 'a'   -    open for writing, appending to the end of the file if it exists\n",
    "# 'b'   -    binary mode\n",
    "# 't'   -    text mode (default)\n",
    "# '+'   -    open a disk file for updating (reading and writing)\n",
    "# 'U'   -    universal newline mode (deprecated)"
   ]
  },
  {
   "cell_type": "code",
   "execution_count": 3,
   "id": "5af49699-d39c-4a62-b932-4b84ea4a71db",
   "metadata": {},
   "outputs": [],
   "source": [
    "# The close() function is used to close a file after it has been opened in a program.\n",
    "# closing a file using the close() function is important for proper resource management, data consistency, and avoiding system limitations."
   ]
  },
  {
   "cell_type": "code",
   "execution_count": 5,
   "id": "41c02ebb-1313-4e91-9f24-5162a00ff713",
   "metadata": {},
   "outputs": [
    {
     "data": {
      "text/plain": [
       "'MSD is GOAT'"
      ]
     },
     "execution_count": 5,
     "metadata": {},
     "output_type": "execute_result"
    }
   ],
   "source": [
    "file = open('test.txt','w')\n",
    "file.write('MSD is GOAT')\n",
    "file.close()\n",
    "file = open('test.txt','r')\n",
    "file.read()"
   ]
  },
  {
   "cell_type": "code",
   "execution_count": null,
   "id": "1bd0bb04-d79d-402f-8d2e-e26977bfbfc7",
   "metadata": {},
   "outputs": [],
   "source": [
    "# read() - The read() method is used to read the entire contents of a file and return it as a single string.\n",
    "with open(\"file.txt\", \"r\") as f:\n",
    "    data = f.read()\n",
    "    print(data)\n",
    "    \n",
    "# readline() - he readline() method is used to read a single line from a file and return it as a string.\n",
    "with open(\"file.txt\", \"r\") as f:\n",
    "    line = f.readline()\n",
    "    while line:\n",
    "        print(line)\n",
    "        line = f.readline()\n",
    "\n",
    "# The readlines() method is used to read all the lines of a file and return them as a list of strings.\n",
    "with open(\"file.txt\", \"r\") as f:\n",
    "    lines = f.readlines()\n",
    "    for line in lines:\n",
    "        print(line)"
   ]
  },
  {
   "cell_type": "code",
   "execution_count": 8,
   "id": "249c9cfb-7d69-4386-8557-6342b50d7003",
   "metadata": {},
   "outputs": [],
   "source": [
    "# The with statement is used with the open() function in Python to ensure that a file is properly opened and closed. \n",
    "# It provides a context for working with a file that automatically handles the opening and closing of the file, as well as any errors that may occur during the process.\n",
    "# advatages - The advantage of using with and open() together is that it simplifies the code and reduces the likelihood of errors\n",
    "# 1.Automatic file closing.\n",
    "# 2.Error Handling."
   ]
  },
  {
   "cell_type": "code",
   "execution_count": null,
   "id": "7fee10bb-6d60-4bbc-b7ea-4438c6c619fc",
   "metadata": {},
   "outputs": [],
   "source": [
    "# write() - The write() function is used to write a string of data to a file. It takes a single argument, which is the string to be written to the file.\n",
    "with open(\"file.txt\", \"w\") as f:\n",
    "    f.write(\"Hello, World!\\n\")\n",
    "    f.write(\"This is a test.\\n\")\n",
    "\n",
    "# writelines() - The writelines() function is used to write a list of strings to a file. It takes a single argument, which is a list of strings to be written to the file. \n",
    "with open(\"file.txt\", \"w\") as f:\n",
    "    lines = [\"Hello, World!\\n\", \"This is a test.\\n\"]\n",
    "    f.writelines(lines)"
   ]
  }
 ],
 "metadata": {
  "kernelspec": {
   "display_name": "Python 3 (ipykernel)",
   "language": "python",
   "name": "python3"
  },
  "language_info": {
   "codemirror_mode": {
    "name": "ipython",
    "version": 3
   },
   "file_extension": ".py",
   "mimetype": "text/x-python",
   "name": "python",
   "nbconvert_exporter": "python",
   "pygments_lexer": "ipython3",
   "version": "3.10.6"
  }
 },
 "nbformat": 4,
 "nbformat_minor": 5
}
