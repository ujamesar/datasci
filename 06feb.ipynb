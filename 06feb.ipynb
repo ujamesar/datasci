{
 "cells": [
  {
   "cell_type": "code",
   "execution_count": 1,
   "id": "f48d1ce0-d532-490d-8f6e-a841c859ade1",
   "metadata": {},
   "outputs": [
    {
     "name": "stdout",
     "output_type": "stream",
     "text": [
      "4134711838987085478833841242112000\n"
     ]
    }
   ],
   "source": [
    "# Q1. Create a function which will take a list as an argument and return the product of all the numbers after creating a flat list. Use the below-given list as an argument for your function. list1 = [1,2,3,4, [44,55,66, True], False, (34,56,78,89,34), {1,2,3,3,2,1}, {1:34, \"key2\": [55, 67, 78, 89], 4: (45, 22, 61, 34)}, [56, 'data science'], 'Machine Learning'] Note: you must extract numeric keys and values of the dictionary also.\n",
    "\n",
    "def product_of_numbers(list1):\n",
    "    flat_list = []\n",
    "    for i in list1:\n",
    "        if type(i) == int:\n",
    "            flat_list.append(i)\n",
    "        elif type(i) == float:\n",
    "            flat_list.append(i)\n",
    "        elif type(i) == tuple:\n",
    "            flat_list.extend(list(i))\n",
    "        elif type(i) == list:\n",
    "            flat_list.extend(i)\n",
    "        elif type(i) == set:\n",
    "            flat_list.extend(list(i))\n",
    "        elif type(i) == dict:\n",
    "            for key, value in i.items():\n",
    "                if type(key) == int or type(key) == float:\n",
    "                    flat_list.append(key)\n",
    "                if type(value) == int or type(value) == float:\n",
    "                    flat_list.append(value)\n",
    "                if type(value) == list:\n",
    "                    flat_list.extend(value)\n",
    "                if type(value) == tuple:\n",
    "                    flat_list.extend(list(value))\n",
    "    product = 1\n",
    "    for num in flat_list:\n",
    "        if type(num) == int or type(num) == float:\n",
    "            product *= num\n",
    "    return product\n",
    "\n",
    "list1 = [1, 2, 3, 4, [44, 55, 66, True], False, (34, 56, 78, 89, 34), {1, 2, 3, 3, 2, 1}, {1: 34, \"key2\": [55, 67, 78, 89], 4: (45, 22, 61, 34)}, [56, 'data science'], 'Machine Learning']\n",
    "print(product_of_numbers(list1))"
   ]
  },
  {
   "cell_type": "code",
   "execution_count": 3,
   "id": "20cb1ff4-f305-4f9f-abe3-58bebc4efe71",
   "metadata": {},
   "outputs": [
    {
     "name": "stdout",
     "output_type": "stream",
     "text": [
      "r$dzmg$gl$yvxlnv$z$wzgz$hxrvmgrhg.\n"
     ]
    }
   ],
   "source": [
    "# Q2. Write a python program for encrypting a message sent to you by your friend. The logic of encryption should be such that, for a the output should be z. For b, the output should be y. For c, the output should be x respectively. Also, the whitespace should be replaced with a dollar sign. Keep the punctuation marks unchanged. Input Sentence: I want to become a Data Scientist. Encrypt the above input sentence using the program you just created. Note: Convert the given input sentence into lowercase before encrypting. The final output should be lowercase.\n",
    "\n",
    "s=\"I want to become a Data Scientist.\"\n",
    "s1=s.lower()\n",
    "def encryption(n):\n",
    "    l1={\".\":\".\",\" \":\"$\",\"a\":\"z\",\"b\":\"y\",\"c\":\"x\",\"d\":\"w\",\"e\":\"v\",\"f\":\"u\",\"g\":\"t\",\"h\":\"s\",\"i\":\"r\",\"j\":\"q\",\"k\":\"p\",\"l\":\"o\",\"m\":\"n\",\"n\":\"m\",\"o\":\"l\",\"p\":\"k\",\"q\":\"j\",\"r\":\"i\",\"s\":\"h\",\"t\":\"g\",\"u\":\"f\",\"v\":\"e\",\"w\":\"d\",\"x\":\"c\",\"y\":\"b\",\"z\":\"a\"}\n",
    "    new=[]\n",
    "    for i in n:\n",
    "        for k,v in l1.items():\n",
    "            if i == k:\n",
    "                new.append(v)\n",
    "    result=''.join(new)\n",
    "    print(result)\n",
    "\n",
    "\n",
    "encryption(list(s1))"
   ]
  },
  {
   "cell_type": "code",
   "execution_count": 4,
   "id": "b5705e52-3bcc-4fec-8243-653d80b9a7b2",
   "metadata": {},
   "outputs": [
    {
     "name": "stdout",
     "output_type": "stream",
     "text": [
      "r$dzmg$gl$yvxlnv$z$wzgz$hxrvmgrhg.\n"
     ]
    }
   ],
   "source": [
    "# another method\n",
    "def encrypt_message(message):\n",
    "    encryption_map = {\n",
    "        'a': 'z', 'b': 'y', 'c': 'x', 'd': 'w', 'e': 'v',\n",
    "        'f': 'u', 'g': 't', 'h': 's', 'i': 'r', 'j': 'q',\n",
    "        'k': 'p', 'l': 'o', 'm': 'n', 'n': 'm', 'o': 'l',\n",
    "        'p': 'k', 'q': 'j', 'r': 'i', 's': 'h', 't': 'g',\n",
    "        'u': 'f', 'v': 'e', 'w': 'd', 'x': 'c', 'y': 'b',\n",
    "        'z': 'a', ' ': '$',\n",
    "    }\n",
    "    message = message.lower()\n",
    "    encrypted_message = ''\n",
    "    for char in message:\n",
    "        if char in encryption_map:\n",
    "            encrypted_message += encryption_map[char]\n",
    "        else:\n",
    "            encrypted_message += char\n",
    "    return encrypted_message\n",
    "\n",
    "message = \"I want to become a Data Scientist.\"\n",
    "print(encrypt_message(message))"
   ]
  },
  {
   "cell_type": "code",
   "execution_count": null,
   "id": "4d24630f-c40d-4ee4-8574-a607d0c132fc",
   "metadata": {},
   "outputs": [],
   "source": []
  }
 ],
 "metadata": {
  "kernelspec": {
   "display_name": "Python 3 (ipykernel)",
   "language": "python",
   "name": "python3"
  },
  "language_info": {
   "codemirror_mode": {
    "name": "ipython",
    "version": 3
   },
   "file_extension": ".py",
   "mimetype": "text/x-python",
   "name": "python",
   "nbconvert_exporter": "python",
   "pygments_lexer": "ipython3",
   "version": "3.10.6"
  }
 },
 "nbformat": 4,
 "nbformat_minor": 5
}
