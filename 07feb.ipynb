{
 "cells": [
  {
   "cell_type": "code",
   "execution_count": 4,
   "id": "45f5e031-1c62-4773-9bc0-041b2d761c5e",
   "metadata": {},
   "outputs": [
    {
     "name": "stdin",
     "output_type": "stream",
     "text": [
      "Enter the Password llFF$_@456\n"
     ]
    },
    {
     "name": "stdout",
     "output_type": "stream",
     "text": [
      "Valid Password\n"
     ]
    }
   ],
   "source": [
    "# Q1. You are writing code for a company. The requirement of the company is that you create a python function that will check whether the password entered by the user is correct or not. The function should take the password as input and return the string “Valid Password” if the entered password follows the below-given password guidelines else it should return “Invalid Password”. Note: 1. The Password should contain at least two uppercase letters and at least two lowercase letters. 2. The Password should contain at least a number and three special characters. 3. The length of the password should be 10 characters long.\n",
    "\n",
    "def password(s):\n",
    "    l, u, p, d = 0, 0, 0, 0\n",
    "    if (len(s) == 10):\n",
    "        for i in s:\n",
    "\n",
    "\t\t# counts lower alpha\n",
    "            if (i.islower()):\n",
    "                l+=1\t\t\n",
    "\n",
    "\t\t# countts upper alpha\n",
    "            if (i.isupper()):\n",
    "                u+=1\t\t\n",
    "\n",
    "\t\t# counts digit\n",
    "            if (i.isdigit()):\n",
    "                d+=1\t\t\n",
    "\n",
    "\t\t# counts special charcater\n",
    "            if(i=='@'or i=='$' or i=='_'):\n",
    "                p+=1\t\t\n",
    "    if (l>=2 and u>=2 and p==3 and d>=1 and l+p+u+d==len(s)):\n",
    "        print(\"Valid Password\")\n",
    "    else:\n",
    "        print(\"Invalid Password\")\n",
    "        \n",
    "s = input(\"Enter the Password\") \n",
    "password(s)"
   ]
  },
  {
   "cell_type": "code",
   "execution_count": 6,
   "id": "5f6562c4-536d-4949-89df-61b58f5c084b",
   "metadata": {},
   "outputs": [
    {
     "data": {
      "text/plain": [
       "[True]"
      ]
     },
     "execution_count": 6,
     "metadata": {},
     "output_type": "execute_result"
    }
   ],
   "source": [
    "# Q2(1) Check if the string starts with a particular letter\n",
    "\n",
    "# with list comprehension\n",
    "[\"ujwal\".startswith(\"u\")]"
   ]
  },
  {
   "cell_type": "code",
   "execution_count": 7,
   "id": "f730987b-624a-45b4-94c5-bbfa7d66a6d3",
   "metadata": {},
   "outputs": [
    {
     "data": {
      "text/plain": [
       "False"
      ]
     },
     "execution_count": 7,
     "metadata": {},
     "output_type": "execute_result"
    }
   ],
   "source": [
    "# with lambda function\n",
    "m=lambda s:s.startswith(\"a\")\n",
    "m(\"ujwal\")"
   ]
  },
  {
   "cell_type": "code",
   "execution_count": 8,
   "id": "44638412-92af-4dc2-aa54-ceaa152a3416",
   "metadata": {},
   "outputs": [
    {
     "data": {
      "text/plain": [
       "False"
      ]
     },
     "execution_count": 8,
     "metadata": {},
     "output_type": "execute_result"
    }
   ],
   "source": [
    "m=lambda s:s.startswith(\"s\")\n",
    "m(\"ujwal\")"
   ]
  },
  {
   "cell_type": "code",
   "execution_count": 10,
   "id": "de37b3ec-0166-49f7-8603-d2de7468724c",
   "metadata": {},
   "outputs": [
    {
     "data": {
      "text/plain": [
       "False"
      ]
     },
     "execution_count": 10,
     "metadata": {},
     "output_type": "execute_result"
    }
   ],
   "source": [
    "# Q2(2) Check if the string is numeric\n",
    "\n",
    "# with lambda function\n",
    "m=lambda s:s.isnumeric()\n",
    "m(\"ujwal\")"
   ]
  },
  {
   "cell_type": "code",
   "execution_count": 11,
   "id": "246ec29f-9e26-4d0a-8a95-3331721bd207",
   "metadata": {},
   "outputs": [
    {
     "data": {
      "text/plain": [
       "True"
      ]
     },
     "execution_count": 11,
     "metadata": {},
     "output_type": "execute_result"
    }
   ],
   "source": [
    "m=lambda s:s.isnumeric()\n",
    "m(\"12345\")"
   ]
  },
  {
   "cell_type": "code",
   "execution_count": 12,
   "id": "17e24381-7a19-47d8-a5e1-9677a3db1028",
   "metadata": {},
   "outputs": [
    {
     "data": {
      "text/plain": [
       "[False]"
      ]
     },
     "execution_count": 12,
     "metadata": {},
     "output_type": "execute_result"
    }
   ],
   "source": [
    "#with list comprehension\n",
    "[\"ujwal\".isnumeric()]"
   ]
  },
  {
   "cell_type": "code",
   "execution_count": 13,
   "id": "408a24b3-83bf-4aae-a06a-1d309568b6d5",
   "metadata": {},
   "outputs": [
    {
     "data": {
      "text/plain": [
       "[True]"
      ]
     },
     "execution_count": 13,
     "metadata": {},
     "output_type": "execute_result"
    }
   ],
   "source": [
    "[\"123\".isnumeric()]"
   ]
  },
  {
   "cell_type": "code",
   "execution_count": 15,
   "id": "8d64c7e4-75e8-40a4-a75a-8cf1d0ba780c",
   "metadata": {},
   "outputs": [
    {
     "name": "stdout",
     "output_type": "stream",
     "text": [
      "[('orange', 80), ('mango', 99), ('grapes', 1000)]\n"
     ]
    }
   ],
   "source": [
    "# Q2(3) Sort a list of tuples having fruit names and their quantity. [(\"mango\",99),(\"orange\",80), (\"grapes\", 1000)]\n",
    "\n",
    "l=[(\"mango\",99),(\"orange\",80), (\"grapes\", 1000)]\n",
    "def Sort_Tuple(tup):\n",
    "    tup.sort(key = lambda x: x[1])\n",
    "    return tup\n",
    "\n",
    "print(Sort_Tuple(l))"
   ]
  },
  {
   "cell_type": "code",
   "execution_count": 17,
   "id": "1656cd12-4caa-4ac8-8ae9-8fd9bb3654ab",
   "metadata": {},
   "outputs": [
    {
     "data": {
      "text/plain": [
       "[1, 4, 9, 16, 25, 36, 49, 64, 81, 100]"
      ]
     },
     "execution_count": 17,
     "metadata": {},
     "output_type": "execute_result"
    }
   ],
   "source": [
    "# Q2(4) Find the squares of numbers from 1 to 10\n",
    "\n",
    "# with map & lambda function\n",
    "l= []  \n",
    "for i in range(1,11):\n",
    "    l.append(i)\n",
    "list(map(lambda x:x**2,l))"
   ]
  },
  {
   "cell_type": "code",
   "execution_count": 18,
   "id": "bbe0fbad-5069-4d2f-8476-cd266fa4639d",
   "metadata": {},
   "outputs": [
    {
     "data": {
      "text/plain": [
       "[1, 4, 9, 16, 25, 36, 49, 64, 81, 100]"
      ]
     },
     "execution_count": 18,
     "metadata": {},
     "output_type": "execute_result"
    }
   ],
   "source": [
    "# with list comprehension\n",
    "l= []  \n",
    "for i in range(1,11):\n",
    "    l.append(i)\n",
    "[i**2 for i in l]"
   ]
  },
  {
   "cell_type": "code",
   "execution_count": 19,
   "id": "975b1a4c-d8f0-4be2-9241-71ff2ac3a089",
   "metadata": {},
   "outputs": [
    {
     "data": {
      "text/plain": [
       "[1.0,\n",
       " 1.2599210498948732,\n",
       " 1.4422495703074083,\n",
       " 1.5874010519681994,\n",
       " 1.7099759466766968,\n",
       " 1.8171205928321397,\n",
       " 1.912931182772389,\n",
       " 2.0,\n",
       " 2.080083823051904,\n",
       " 2.154434690031884]"
      ]
     },
     "execution_count": 19,
     "metadata": {},
     "output_type": "execute_result"
    }
   ],
   "source": [
    "# Q2(5) Find the cube root of numbers from 1 to 10\n",
    "\n",
    "# with map & lambda\n",
    "l= []  \n",
    "for i in range(1,11):\n",
    "    l.append(i)\n",
    "list(map(lambda x:x**(1/3),l))"
   ]
  },
  {
   "cell_type": "code",
   "execution_count": 21,
   "id": "367b9296-74a7-4d1a-b384-7850d924cf1d",
   "metadata": {},
   "outputs": [
    {
     "data": {
      "text/plain": [
       "[1.0,\n",
       " 1.2599210498948732,\n",
       " 1.4422495703074083,\n",
       " 1.5874010519681994,\n",
       " 1.7099759466766968,\n",
       " 1.8171205928321397,\n",
       " 1.912931182772389,\n",
       " 2.0,\n",
       " 2.080083823051904,\n",
       " 2.154434690031884]"
      ]
     },
     "execution_count": 21,
     "metadata": {},
     "output_type": "execute_result"
    }
   ],
   "source": [
    "# with list comprehension\n",
    "l= []  \n",
    "for i in range(1,11):\n",
    "    l.append(i)\n",
    "[ i**(1/3) for i in l]"
   ]
  },
  {
   "cell_type": "code",
   "execution_count": 23,
   "id": "934cfa6e-99aa-4035-871f-879d3b297a0c",
   "metadata": {},
   "outputs": [
    {
     "data": {
      "text/plain": [
       "[False]"
      ]
     },
     "execution_count": 23,
     "metadata": {},
     "output_type": "execute_result"
    }
   ],
   "source": [
    "# Q2 (6) Check if a given number is even\n",
    "\n",
    "# with list comprehension\n",
    "s=1231\n",
    "[s%2==0]"
   ]
  },
  {
   "cell_type": "code",
   "execution_count": 24,
   "id": "08e0145e-b288-4abc-b175-d23e1a7991cc",
   "metadata": {},
   "outputs": [
    {
     "name": "stdout",
     "output_type": "stream",
     "text": [
      "[False]\n"
     ]
    },
    {
     "data": {
      "text/plain": [
       "[True]"
      ]
     },
     "execution_count": 24,
     "metadata": {},
     "output_type": "execute_result"
    }
   ],
   "source": [
    "print([12345%2==0])\n",
    "[123456%2==0]"
   ]
  },
  {
   "cell_type": "code",
   "execution_count": 25,
   "id": "dc5f920f-b870-4f9f-bae6-9a0b55522df2",
   "metadata": {},
   "outputs": [
    {
     "name": "stdout",
     "output_type": "stream",
     "text": [
      "False\n"
     ]
    },
    {
     "data": {
      "text/plain": [
       "True"
      ]
     },
     "execution_count": 25,
     "metadata": {},
     "output_type": "execute_result"
    }
   ],
   "source": [
    "# with lambda function\n",
    "g=lambda s: s%2==0\n",
    "print(g(123))\n",
    "g(123456)"
   ]
  },
  {
   "cell_type": "code",
   "execution_count": 26,
   "id": "50d87760-d5c0-467e-8edf-f20df2c8344b",
   "metadata": {},
   "outputs": [
    {
     "data": {
      "text/plain": [
       "[1, 3, 5, 7, 9]"
      ]
     },
     "execution_count": 26,
     "metadata": {},
     "output_type": "execute_result"
    }
   ],
   "source": [
    "# Q2 (7) Filter odd numbers from the given list. [1,2,3,4,5,6,7,8,9,10]\n",
    "\n",
    "# using list comprehension\n",
    "l=[1,2,3,4,5,6,7,8,9,10]\n",
    "[i for i in l if i%2!=0] "
   ]
  },
  {
   "cell_type": "code",
   "execution_count": 28,
   "id": "bc8d1a75-2a52-454f-9236-02c6ad076f16",
   "metadata": {},
   "outputs": [
    {
     "name": "stdout",
     "output_type": "stream",
     "text": [
      "[1, 2, 3, 4, 5, 6]\n"
     ]
    },
    {
     "data": {
      "text/plain": [
       "[-1, -2, -3, -4, -5]"
      ]
     },
     "execution_count": 28,
     "metadata": {},
     "output_type": "execute_result"
    }
   ],
   "source": [
    "# Q2 (8) Sort a list of integers into positive and negative integers lists.[1,2,3,4,5,6,-1,-2,-3,-4,-5,0]\n",
    "\n",
    "# using list comprehension\n",
    "l=[1,2,3,4,5,6,-1,-2,-3,-4,-5,0]\n",
    "print([i for i in l if i>0] )\n",
    "[i for i in l if i<0] "
   ]
  },
  {
   "cell_type": "code",
   "execution_count": 29,
   "id": "f3b33a04-71b4-42f6-8d60-5c44842111b4",
   "metadata": {},
   "outputs": [
    {
     "name": "stdout",
     "output_type": "stream",
     "text": [
      "[1, 2, 3, 4, 5, 6]\n"
     ]
    },
    {
     "data": {
      "text/plain": [
       "[-1, -2, -3, -4, -5]"
      ]
     },
     "execution_count": 29,
     "metadata": {},
     "output_type": "execute_result"
    }
   ],
   "source": [
    "# using lambda function\n",
    "\n",
    "positive = list(filter(lambda x: x >0,l))\n",
    "print(positive)\n",
    "negative = list(filter(lambda x: x <0,l))\n",
    "negative"
   ]
  },
  {
   "cell_type": "code",
   "execution_count": null,
   "id": "ce6ac2ff-8826-4432-b585-e94ae8a5e14a",
   "metadata": {},
   "outputs": [],
   "source": []
  }
 ],
 "metadata": {
  "kernelspec": {
   "display_name": "Python 3 (ipykernel)",
   "language": "python",
   "name": "python3"
  },
  "language_info": {
   "codemirror_mode": {
    "name": "ipython",
    "version": 3
   },
   "file_extension": ".py",
   "mimetype": "text/x-python",
   "name": "python",
   "nbconvert_exporter": "python",
   "pygments_lexer": "ipython3",
   "version": "3.10.6"
  }
 },
 "nbformat": 4,
 "nbformat_minor": 5
}
