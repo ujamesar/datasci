{
 "cells": [
  {
   "cell_type": "code",
   "execution_count": 1,
   "id": "84787359-fd3d-45ef-85ad-02ffe3939398",
   "metadata": {},
   "outputs": [
    {
     "name": "stdout",
     "output_type": "stream",
     "text": [
      "[('Virat Kohli', 24936), ('Jack Kallis', 25534), ('Ricky Ponting', 27483), ('Sachin Tendulkar', 34357)]\n"
     ]
    }
   ],
   "source": [
    "# Q1. Create a python program to sort the given list of tuples based on integer value using a lambda function.\n",
    "#    [('Sachin Tendulkar', 34357), ('Ricky Ponting', 27483), ('Jack Kallis', 25534), ('Virat Kohli', 24936)]\n",
    "\n",
    "l= [('Sachin Tendulkar', 34357), ('Ricky Ponting', 27483), ('Jack Kallis', 25534), ('Virat Kohli', 24936)]\n",
    "def Sort_Tuple(tup):\n",
    "    tup.sort(key = lambda x: x[1])\n",
    "    return tup\n",
    "\n",
    "print(Sort_Tuple(l))"
   ]
  },
  {
   "cell_type": "code",
   "execution_count": 2,
   "id": "a8e0166f-b1a7-4a72-94aa-f5e5d3391d78",
   "metadata": {},
   "outputs": [
    {
     "data": {
      "text/plain": [
       "[1, 4, 9, 16, 25, 36, 49, 64, 81, 100]"
      ]
     },
     "execution_count": 2,
     "metadata": {},
     "output_type": "execute_result"
    }
   ],
   "source": [
    "# Q2. Write a Python Program to find the squares of all the numbers in the given list of integers using lambda and map functions.\n",
    "           #               [1, 2, 3, 4, 5, 6, 7, 8, 9, 10]\n",
    "l= [1, 2, 3, 4, 5, 6, 7, 8, 9, 10]  \n",
    "list(map(lambda x:x**2,l))"
   ]
  },
  {
   "cell_type": "code",
   "execution_count": 3,
   "id": "9a4b33cb-d5d9-4199-ad24-4671353411c8",
   "metadata": {},
   "outputs": [
    {
     "data": {
      "text/plain": [
       "('1', '2', '3', '4', '5', '6', '7', '8', '9', '10')"
      ]
     },
     "execution_count": 3,
     "metadata": {},
     "output_type": "execute_result"
    }
   ],
   "source": [
    "# Q3. Write a python program to convert the given list of integers into a tuple of strings. Use map and lambda functions\n",
    "#       Given String: [1, 2, 3, 4, 5, 6, 7, 8, 9, 10]\n",
    "#         Expected output: ('1', '2', '3', '4', '5', '6', '7', '8', '9', '10')\n",
    "l= [1, 2, 3, 4, 5, 6, 7, 8, 9, 10]  \n",
    "tuple(list(map(str,l)))"
   ]
  },
  {
   "cell_type": "code",
   "execution_count": 7,
   "id": "36ef8e37-b031-4b44-a586-6573b44fdfe2",
   "metadata": {},
   "outputs": [
    {
     "data": {
      "text/plain": [
       "15511210043330985984000000"
      ]
     },
     "execution_count": 7,
     "metadata": {},
     "output_type": "execute_result"
    }
   ],
   "source": [
    "# Q4. Write a python program using reduce function to compute the product of a list containing numbers from 1 to 25.\n",
    "from functools import reduce\n",
    "l=[]\n",
    "for i in range(1,26):\n",
    "    l.append(i)\n",
    "reduce(lambda x,y: x*y ,l)"
   ]
  },
  {
   "cell_type": "code",
   "execution_count": 8,
   "id": "f38fc521-2ff4-4b59-8ff2-f832e555cae9",
   "metadata": {},
   "outputs": [
    {
     "data": {
      "text/plain": [
       "[6, 60, 90, 120]"
      ]
     },
     "execution_count": 8,
     "metadata": {},
     "output_type": "execute_result"
    }
   ],
   "source": [
    "# Q5. Write a python program to filter the numbers in a given list that are divisible by 2 and 3 using the filter function.\n",
    "                       # [2, 3, 6, 9, 27, 60, 90, 120, 55, 46]\n",
    "l=[2, 3, 6, 9, 27, 60, 90, 120, 55, 46] \n",
    "list(filter(lambda x:x%2==0 and x%3==0,l))"
   ]
  },
  {
   "cell_type": "code",
   "execution_count": 9,
   "id": "2ace4168-bb51-40c9-89bd-9411fa3626a1",
   "metadata": {},
   "outputs": [
    {
     "data": {
      "text/plain": [
       "['php', 'aba', 'radar', 'level']"
      ]
     },
     "execution_count": 9,
     "metadata": {},
     "output_type": "execute_result"
    }
   ],
   "source": [
    "# Q6. Write a python program to find palindromes in the given list of strings using lambda and filter function.\n",
    "            # ['python', 'php', 'aba', 'radar', 'level']\n",
    "l=['python', 'php', 'aba', 'radar', 'level']\n",
    "list(filter(lambda x: (x == \"\".join(reversed(x))), l))\n"
   ]
  },
  {
   "cell_type": "code",
   "execution_count": null,
   "id": "e1d3f85b-fbc5-4bb2-b1d6-391375c50b7f",
   "metadata": {},
   "outputs": [],
   "source": []
  }
 ],
 "metadata": {
  "kernelspec": {
   "display_name": "Python 3 (ipykernel)",
   "language": "python",
   "name": "python3"
  },
  "language_info": {
   "codemirror_mode": {
    "name": "ipython",
    "version": 3
   },
   "file_extension": ".py",
   "mimetype": "text/x-python",
   "name": "python",
   "nbconvert_exporter": "python",
   "pygments_lexer": "ipython3",
   "version": "3.10.6"
  }
 },
 "nbformat": 4,
 "nbformat_minor": 5
}
