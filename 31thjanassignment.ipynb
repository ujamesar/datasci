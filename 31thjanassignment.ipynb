{
 "cells": [
  {
   "cell_type": "code",
   "execution_count": 1,
   "id": "b28c734c-d4ff-459a-9e6c-b490f72b0fa9",
   "metadata": {},
   "outputs": [
    {
     "name": "stdin",
     "output_type": "stream",
     "text": [
      "Enter the percentage : 95\n"
     ]
    },
    {
     "name": "stdout",
     "output_type": "stream",
     "text": [
      "Your grade is 'A'\n"
     ]
    }
   ],
   "source": [
    "##1.1.1 1.Write a program to accept percentage from the user and display the grade\n",
    "#according to the following criteria:\n",
    "percentage = int(input(\"Enter the percentage :\"))\n",
    "if percentage>90:\n",
    "    print(\"Your grade is 'A'\")\n",
    "elif percentage>80 and percentage<=90:\n",
    "    print(\"Your grade is 'B'\")\n",
    "elif percentage>80 and percentage<=80:\n",
    "    print(\"Your grade is 'C'\")\n",
    "else:\n",
    "    print(\"Your grade is 'D'\")"
   ]
  },
  {
   "cell_type": "code",
   "execution_count": null,
   "id": "7a80da94-7b9e-4047-b4cb-1119ca32a2a6",
   "metadata": {},
   "outputs": [],
   "source": [
    "\n"
   ]
  },
  {
   "cell_type": "code",
   "execution_count": 2,
   "id": "eb8b7d0a-eff6-4412-b2c2-5027019a9be9",
   "metadata": {},
   "outputs": [],
   "source": [
    "##1.1.3 2. Write a program to accept the cost price of a bike and display the road tax to be\n",
    "# paid according to the following criteria:\n",
    "# 1.1.4 Tax Cost Price(in Rs)\n",
    " #1. 15% - >100000\n",
    "#2. 10% - >50000 and <=100000\n",
    "#3. 5% - <=50000##"
   ]
  },
  {
   "cell_type": "code",
   "execution_count": 3,
   "id": "1796054e-5ac1-43d1-97ba-c1ef3096ada2",
   "metadata": {},
   "outputs": [
    {
     "name": "stdin",
     "output_type": "stream",
     "text": [
      "Enter the price of the bike 120000\n"
     ]
    },
    {
     "name": "stdout",
     "output_type": "stream",
     "text": [
      "Road tax to be paid is 18000.0\n"
     ]
    }
   ],
   "source": [
    " cost_price = int(input(\"Enter the price of the bike\"))\n",
    "if cost_price > 100000:\n",
    "    print(\"Road tax to be paid is {}\".format(cost_price * 0.15))\n",
    "elif cost_price>50000 and cost_price <= 100000:\n",
    "    print(\"Road tax to be paid is {}\".format(cost_price * 0.10))\n",
    "else:\n",
    "    print(\"Road tax to be paid is {}\".format(cost_price * 0.05))\n"
   ]
  },
  {
   "cell_type": "code",
   "execution_count": null,
   "id": "5821b8d8-700d-41bf-9c2c-392c0d65b1bc",
   "metadata": {},
   "outputs": [],
   "source": []
  },
  {
   "cell_type": "code",
   "execution_count": 4,
   "id": "3b41d140-71a1-4dee-b2ad-5de41804cf40",
   "metadata": {
    "jupyter": {
     "source_hidden": true
    },
    "tags": []
   },
   "outputs": [],
   "source": [
    "#1.1.5 3. Accept any city from the user and display monuments of that city. 1.1.6\n",
    "#City Monument\n",
    "#1. Delhi - Red Fort\n",
    "#2. Agra - Taj Mahal\n",
    "#3. Jaipur - Jal Mahal\n"
   ]
  },
  {
   "cell_type": "code",
   "execution_count": 5,
   "id": "791d857c-adaa-4d26-8690-ce5e16db2507",
   "metadata": {},
   "outputs": [
    {
     "name": "stdin",
     "output_type": "stream",
     "text": [
      "Enter the city Jaipur\n"
     ]
    },
    {
     "name": "stdout",
     "output_type": "stream",
     "text": [
      "The monument in Jaipur is 'Jal Mahal'\n"
     ]
    }
   ],
   "source": [
    "city=input(\"Enter the city\")\n",
    "if city == 'Delhi':\n",
    "    print(\"The monument in Delhi is 'Red Fort'\")\n",
    "elif city == 'Agra':\n",
    "    print(\"The monument in Agra is 'Taj Mahal'\")\n",
    "elif city == 'Jaipur':\n",
    "    print(\"The monument in Jaipur is 'Jal Mahal'\")\n",
    "else:\n",
    "    print(\"Please enter a valid city\")"
   ]
  },
  {
   "cell_type": "code",
   "execution_count": 6,
   "id": "0aadd345-d059-4bd8-8c6e-43bb621be8fc",
   "metadata": {},
   "outputs": [],
   "source": [
    "#q.4\n"
   ]
  },
  {
   "cell_type": "code",
   "execution_count": 7,
   "id": "fadf9bfd-77ee-4e2a-8fcb-ff0f2882a82e",
   "metadata": {},
   "outputs": [
    {
     "ename": "SyntaxError",
     "evalue": "only single target (not list) can be annotated (3268828487.py, line 1)",
     "output_type": "error",
     "traceback": [
      "\u001b[0;36m  Cell \u001b[0;32mIn [7], line 1\u001b[0;36m\u001b[0m\n\u001b[0;31m    [1]: number = int(input(\"Enter the number : \"))\u001b[0m\n\u001b[0m    ^\u001b[0m\n\u001b[0;31mSyntaxError\u001b[0m\u001b[0;31m:\u001b[0m only single target (not list) can be annotated\n"
     ]
    }
   ],
   "source": [
    "[1]: number = int(input(\"Enter the number : \"))\n",
    "count = 0\n",
    "while number>10:\n",
    "number /= 3\n",
    "count += 1\n",
    "print(f\"Number of times divided by 3 is {count} times\")\n",
    "Enter the number : 99\n",
    "Number of times divided by 3 is 3 times"
   ]
  },
  {
   "cell_type": "code",
   "execution_count": null,
   "id": "e0aba213-5d0d-4a09-8639-553c1fcf7e68",
   "metadata": {},
   "outputs": [],
   "source": []
  },
  {
   "cell_type": "code",
   "execution_count": null,
   "id": "1412eafe-b75f-4dc8-a482-abe3ac269f0e",
   "metadata": {},
   "outputs": [],
   "source": [
    ": # Pattern 1\n",
    "n = int(input(\"Enter the number\"))\n",
    "for i in range(1,n+1):\n",
    "    for j in range(1,i+1):\n",
    "        print(\"*\",end='')\n",
    "    print(\"\\r\")\n",
    "[6]: # Pattern 2\n",
    "n = int(input(\"Enter the number\"))\n",
    "num = 65\n",
    "for i in range(1,n+1):\n",
    "for j in range(1,i+1):\n",
    "ch = chr(num)\n",
    "print(ch,end='')\n",
    "num += 1\n",
    "3\n",
    "print(\"\\r\")\n",
    "Enter the number 5\n",
    "A\n",
    "BC\n",
    "DEF\n",
    "GHIJ\n",
    "KLMNO\n",
    "[7]: # Pattern 3\n",
    "n = int(input(\"Enter the number\"))\n",
    "num = 65\n",
    "for i in range(1,n+1):\n",
    "for j in range(1,i+1):\n",
    "ch = chr(num)\n",
    "print(ch,end='')\n",
    "num += 1\n",
    "print(\"\\r\")\n",
    "Enter the number 5\n",
    "A\n",
    "BB\n",
    "CCC\n",
    "DDDD\n",
    "EEEEE"
   ]
  },
  {
   "cell_type": "code",
   "execution_count": null,
   "id": "83c64a4f-970d-4940-b1d9-943fd2e833d5",
   "metadata": {},
   "outputs": [],
   "source": [
    "#9"
   ]
  },
  {
   "cell_type": "code",
   "execution_count": null,
   "id": "6f76de56-4ef0-4002-b14d-5ed5c5b2e0bd",
   "metadata": {},
   "outputs": [],
   "source": [
    "n = 10\n",
    "while n > 0:\n",
    "print(n)\n",
    "n -= 1"
   ]
  },
  {
   "cell_type": "code",
   "execution_count": null,
   "id": "04a44049-8418-4c6a-9ad9-eb604319bfe5",
   "metadata": {},
   "outputs": [],
   "source": []
  }
 ],
 "metadata": {
  "kernelspec": {
   "display_name": "Python 3 (ipykernel)",
   "language": "python",
   "name": "python3"
  },
  "language_info": {
   "codemirror_mode": {
    "name": "ipython",
    "version": 3
   },
   "file_extension": ".py",
   "mimetype": "text/x-python",
   "name": "python",
   "nbconvert_exporter": "python",
   "pygments_lexer": "ipython3",
   "version": "3.10.6"
  }
 },
 "nbformat": 4,
 "nbformat_minor": 5
}
