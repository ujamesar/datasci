{
 "cells": [
  {
   "cell_type": "code",
   "execution_count": 1,
   "id": "af84bf9b-fd4f-42ed-a22d-717cb0965075",
   "metadata": {},
   "outputs": [],
   "source": [
    "# Q1. Explain Class and Object with respect to Object-Oriented Programming. Give a suitable example.\n",
    "\n",
    "# A class is a collection of objects. A class contains the blueprints or the prototype from which the objects are being created. It is a logical entity that contains some attributes and methods. The object is an entity that has a state and behavior associated with it. It may be any real-world object like a mouse, keyboard, chair, table, pen, etc.\n",
    "\n",
    "# example1: The blueprint(design) is the class...the house is the object. The people living in the house are data stored in the object's properties.\n",
    "\n",
    "# example2:We have a Class of Cars under which Santro Xing, Alto and WaganR represents individual Objects\n",
    "\n",
    "# Q2. Name the four pillars of OOPs.\n",
    "\n",
    "# These four pillars are Inheritance, Polymorphism, Encapsulation and Abstraction\n",
    "\n",
    "# Q3. Explain why the init() function is used. Give a suitable example.\n",
    "\n",
    "# \"init\" is a reseved method in python classes. It is called as a constructor in object oriented terminology. This method is called when an object is created from a class and it allows the class to initialize the attributes of the class. The task of constructors is to initialize(assign values) to the data members of the class when an object of the class is created. Like methods, a constructor also contains a collection of statements(i.e. instructions) that are executed at the time of Object creation. It is run as soon as an object of a class is instantiated. The method is useful to do any initialization you want to do with your object."
   ]
  },
  {
   "cell_type": "code",
   "execution_count": 3,
   "id": "5ddaca65-c56c-4eea-910b-dbcb549f1cf7",
   "metadata": {},
   "outputs": [
    {
     "name": "stdout",
     "output_type": "stream",
     "text": [
      "Hello, my name is Ujwal\n"
     ]
    }
   ],
   "source": [
    "# example\n",
    "\n",
    "class Person:\n",
    " \n",
    "    \n",
    "    def __init__(self, name):\n",
    "        self.name = name\n",
    " \n",
    "  \n",
    "    def greet(self):\n",
    "        print('Hello, my name is', self.name)\n",
    " \n",
    " \n",
    "p = Person('Ujwal')\n",
    "p.greet()"
   ]
  },
  {
   "cell_type": "code",
   "execution_count": 5,
   "id": "bebe79d8-4ac8-4846-9d6f-7d2e2bbd2e9c",
   "metadata": {},
   "outputs": [],
   "source": [
    "# # Q4. Why self is used in OOPs?\n",
    "\n",
    "# It is used to bind the data to the class . The self parameter is a reference to the current instance of the class, and is used to access variables that belongs to the class. By the way self is not the reserved keyword.\n",
    "\n",
    "# Q5. What is inheritance? Give an example for each type of inheritance.\n",
    "\n",
    "# The process of inheriting the properties of the parent class into a child class is called inheritance. Inheritance is a mechanism that allows you to create a hierarchy of classes that share a set of properties and methods by deriving a class from another class. Inheritance is the capability of one class to derive or inherit the properties from another class."
   ]
  },
  {
   "cell_type": "code",
   "execution_count": 6,
   "id": "26dfc0f3-3f39-43b9-b383-c9b3c452663b",
   "metadata": {},
   "outputs": [
    {
     "name": "stdout",
     "output_type": "stream",
     "text": [
      "This function is in parent class.\n",
      "This function is in child class.\n"
     ]
    }
   ],
   "source": [
    "# 1. Single inheritance: When a child class inherits from only one parent class, it is called single inheritance\n",
    "\n",
    "\n",
    "\n",
    "\n",
    "class Parent:\n",
    "\tdef func1(self):\n",
    "\t\tprint(\"This function is in parent class.\")\n",
    "\n",
    "\n",
    "\n",
    "\n",
    "class Child(Parent):\n",
    "\tdef func2(self):\n",
    "\t\tprint(\"This function is in child class.\")\n",
    "\n",
    "\n",
    "\n",
    "object = Child()\n",
    "object.func1()\n",
    "object.func2()"
   ]
  },
  {
   "cell_type": "code",
   "execution_count": 7,
   "id": "ff5f5371-ee3a-4d13-ae06-52698a472514",
   "metadata": {},
   "outputs": [
    {
     "name": "stdout",
     "output_type": "stream",
     "text": [
      "Father : RAM\n",
      "Mother : SITA\n"
     ]
    }
   ],
   "source": [
    "# 2. Multiple Inheritance: When a class can be derived from more than one base class this type of inheritance is called multiple inheritances. In multiple inheritances, all the features of the base classes are inherited into the derived class. \n",
    "\n",
    "\n",
    "\n",
    "class Mother:\n",
    "\t\n",
    "\n",
    "\tdef mother(self,mother):\n",
    "\t\tself.mothername=mother\n",
    "\n",
    "\n",
    "\n",
    "\n",
    "class Father:\n",
    "\t\n",
    "\n",
    "\tdef father(self,father):\n",
    "\t\tself.fathername=father\n",
    "\n",
    "\n",
    "\n",
    "class Son(Mother, Father):\n",
    "\tdef parents(self):\n",
    "\t\tprint(\"Father :\", self.fathername)\n",
    "\t\tprint(\"Mother :\", self.mothername)\n",
    "\n",
    "\n",
    "\n",
    "s1 = Son()\n",
    "s1.fathername = \"RAM\"\n",
    "s1.mothername = \"SITA\"\n",
    "s1.parents()"
   ]
  },
  {
   "cell_type": "code",
   "execution_count": 8,
   "id": "ee0df353-73e7-4e32-b572-006f98b86833",
   "metadata": {},
   "outputs": [
    {
     "name": "stdout",
     "output_type": "stream",
     "text": [
      "Lal mani\n",
      "Grandfather name : Lal mani\n",
      "Father name : Rampal\n",
      "Son name : Prince\n"
     ]
    }
   ],
   "source": [
    "# 3. Multilevel Inheritance :In multilevel inheritance, features of the base class and the derived class are further inherited into the new derived class. This is similar to a relationship representing a child and a grandfather.\n",
    "\n",
    "\n",
    "\n",
    "\n",
    "\n",
    "class Grandfather:\n",
    "\n",
    "\tdef __init__(self, grandfathername):\n",
    "\t\tself.grandfathername = grandfathername\n",
    "\n",
    "\n",
    "\n",
    "class Father(Grandfather):\n",
    "\tdef __init__(self, fathername, grandfathername):\n",
    "\t\tself.fathername = fathername\n",
    "\n",
    "\t\t\n",
    "\t\tGrandfather.__init__(self, grandfathername)\n",
    "\n",
    "\n",
    "\n",
    "class Son(Father):\n",
    "\tdef __init__(self, sonname, fathername, grandfathername):\n",
    "\t\tself.sonname = sonname\n",
    "\n",
    "\t\n",
    "\t\tFather.__init__(self, fathername, grandfathername)\n",
    "\n",
    "\tdef print_name(self):\n",
    "\t\tprint('Grandfather name :', self.grandfathername)\n",
    "\t\tprint(\"Father name :\", self.fathername)\n",
    "\t\tprint(\"Son name :\", self.sonname)\n",
    "\n",
    "\n",
    "\n",
    "s1 = Son('Prince', 'Rampal', 'Lal mani')\n",
    "print(s1.grandfathername)\n",
    "s1.print_name()"
   ]
  },
  {
   "cell_type": "code",
   "execution_count": 9,
   "id": "3ffe8282-926c-4420-b3ec-8ff5398cdbde",
   "metadata": {},
   "outputs": [
    {
     "name": "stdout",
     "output_type": "stream",
     "text": [
      "This function is in parent class.\n",
      "This function is in child 1.\n",
      "This function is in parent class.\n",
      "This function is in child 2.\n"
     ]
    }
   ],
   "source": [
    "# 4 . Hierarchical Inheritance: When more than one derived class are created from a single base this type of inheritance is called hierarchical inheritance. In this program, we have a parent (base) class and two child (derived) classes.\n",
    "\n",
    "\n",
    "\n",
    "\n",
    "\n",
    "class Parent:\n",
    "\tdef func1(self):\n",
    "\t\tprint(\"This function is in parent class.\")\n",
    "\n",
    "\n",
    "\n",
    "\n",
    "class Child1(Parent):\n",
    "\tdef func2(self):\n",
    "\t\tprint(\"This function is in child 1.\")\n",
    "\n",
    "\n",
    "\n",
    "\n",
    "class Child2(Parent):\n",
    "\tdef func3(self):\n",
    "\t\tprint(\"This function is in child 2.\")\n",
    "\n",
    "\n",
    "\n",
    "object1 = Child1()\n",
    "object2 = Child2()\n",
    "object1.func1()\n",
    "object1.func2()\n",
    "object2.func1()\n",
    "object2.func3()"
   ]
  },
  {
   "cell_type": "code",
   "execution_count": 10,
   "id": "0d622e21-830d-4bb0-a99a-79404b737e5b",
   "metadata": {},
   "outputs": [
    {
     "name": "stdout",
     "output_type": "stream",
     "text": [
      "This function is in school.\n",
      "This function is in student 1. \n"
     ]
    }
   ],
   "source": [
    "# 5. Hybrid Inheritance: Inheritance consisting of multiple types of inheritance is called hybrid inheritance.\n",
    "\n",
    "\n",
    "\n",
    "\n",
    "class School:\n",
    "\tdef func1(self):\n",
    "\t\tprint(\"This function is in school.\")\n",
    "\n",
    "\n",
    "class Student1(School):\n",
    "\tdef func2(self):\n",
    "\t\tprint(\"This function is in student 1. \")\n",
    "\n",
    "\n",
    "class Student2(School):\n",
    "\tdef func3(self):\n",
    "\t\tprint(\"This function is in student 2.\")\n",
    "\n",
    "\n",
    "class Student3(Student1, School):\n",
    "\tdef func4(self):\n",
    "\t\tprint(\"This function is in student 3.\")\n",
    "\n",
    "\n",
    "\n",
    "object = Student3()\n",
    "object.func1()\n",
    "object.func2() "
   ]
  },
  {
   "cell_type": "code",
   "execution_count": null,
   "id": "72277b25-926e-46de-9eb0-0c7093f61758",
   "metadata": {},
   "outputs": [],
   "source": []
  }
 ],
 "metadata": {
  "kernelspec": {
   "display_name": "Python 3 (ipykernel)",
   "language": "python",
   "name": "python3"
  },
  "language_info": {
   "codemirror_mode": {
    "name": "ipython",
    "version": 3
   },
   "file_extension": ".py",
   "mimetype": "text/x-python",
   "name": "python",
   "nbconvert_exporter": "python",
   "pygments_lexer": "ipython3",
   "version": "3.10.6"
  }
 },
 "nbformat": 4,
 "nbformat_minor": 5
}
